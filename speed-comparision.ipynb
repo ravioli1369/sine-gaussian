{
 "cells": [
  {
   "cell_type": "markdown",
   "metadata": {},
   "source": [
    "# **Jax**"
   ]
  },
  {
   "cell_type": "code",
   "execution_count": 1,
   "metadata": {},
   "outputs": [
    {
     "name": "stdout",
     "output_type": "stream",
     "text": [
      "JAX device: gpu\n"
     ]
    }
   ],
   "source": [
    "# make sure jax is using the gpu\n",
    "from jax.lib import xla_bridge\n",
    "print(f\"JAX device: {xla_bridge.get_backend().platform}\")\n",
    "\n",
    "#rest of the imports\n",
    "import jax\n",
    "import timeit\n",
    "import jax.numpy as jnp\n",
    "from sine_gaussian_jax import SineGaussianJax"
   ]
  },
  {
   "cell_type": "code",
   "execution_count": 2,
   "metadata": {},
   "outputs": [
    {
     "name": "stderr",
     "output_type": "stream",
     "text": [
      "2024-06-02 18:54:08.144989: W external/xla/xla/service/gpu/nvptx_compiler.cc:760] The NVIDIA driver's CUDA version is 12.2 which is older than the ptxas CUDA version (12.5.40). Because the driver is older than the ptxas version, XLA is disabling parallel compilation, which may slow down compilation. You should update your NVIDIA driver or use the NVIDIA-provided CUDA forward compatibility packages.\n"
     ]
    },
    {
     "name": "stdout",
     "output_type": "stream",
     "text": [
      "Regular Jax\n",
      "109.79722192999998\n",
      "Jax with JIT\n",
      "15.26603592399988\n"
     ]
    }
   ],
   "source": [
    "sample_rate = 4096.0\n",
    "duration = 10.0\n",
    "\n",
    "sg_jax = SineGaussianJax(sample_rate, duration)\n",
    "\n",
    "quality = jnp.linspace(3, 100, 1000)\n",
    "frequency = jnp.logspace(1, 3, 1000)\n",
    "hrss = jnp.logspace(-23, -6, 1000)\n",
    "phase = jnp.linspace(0, 2 * jnp.pi, 1000)\n",
    "eccentricity = jnp.linspace(0, 0.99, 1000)\n",
    "\n",
    "sg_jit = jax.jit(sg_jax)\n",
    "\n",
    "#benchmark speed\n",
    "print(\"Regular Jax\")\n",
    "print(timeit.timeit(lambda: sg_jax(quality, frequency, hrss, phase, eccentricity), number=10000))\n",
    "print(\"Jax with JIT\")\n",
    "print(timeit.timeit(lambda: sg_jit(quality, frequency, hrss, phase, eccentricity), number=10000))\n"
   ]
  },
  {
   "cell_type": "markdown",
   "metadata": {},
   "source": [
    "# **Torch**"
   ]
  },
  {
   "cell_type": "code",
   "execution_count": 1,
   "metadata": {},
   "outputs": [
    {
     "name": "stdout",
     "output_type": "stream",
     "text": [
      "Torch GPU Available: True, GRID A100X-20C\n"
     ]
    }
   ],
   "source": [
    "# make sure torch is using the gpu\n",
    "import torch\n",
    "print(f\"Torch GPU Available: {torch.cuda.is_available()}, {torch.cuda.get_device_name(0)}\")\n",
    "\n",
    "#rest of the imports\n",
    "import timeit\n",
    "import numpy as np\n",
    "from sine_gaussian import SineGaussian"
   ]
  },
  {
   "cell_type": "code",
   "execution_count": 2,
   "metadata": {},
   "outputs": [
    {
     "name": "stdout",
     "output_type": "stream",
     "text": [
      "71.20611253599964\n"
     ]
    }
   ],
   "source": [
    "sample_rate = 4096.0\n",
    "duration = 10.0\n",
    "\n",
    "sg_torch = SineGaussian(sample_rate, duration)\n",
    "\n",
    "quality = torch.linspace(3, 100, 1000).cuda()\n",
    "frequency = torch.logspace(1, 3, 1000).cuda()\n",
    "hrss = torch.logspace(-23, -6, 1000).cuda()\n",
    "phase = torch.linspace(0, 2 * np.pi, 1000).cuda()\n",
    "eccentricity = torch.linspace(0, 0.99, 1000).cuda()\n",
    "\n",
    "sg_torch = sg_torch.cuda()\n",
    "\n",
    "#benchmark speed\n",
    "print(timeit.timeit(lambda: sg_torch(quality, frequency, hrss, phase, eccentricity), number=10000))"
   ]
  },
  {
   "cell_type": "markdown",
   "metadata": {},
   "source": [
    "# **Comparision**"
   ]
  },
  {
   "cell_type": "code",
   "execution_count": 1,
   "metadata": {},
   "outputs": [],
   "source": [
    "import matplotlib.pyplot as plt"
   ]
  },
  {
   "cell_type": "code",
   "execution_count": 2,
   "metadata": {},
   "outputs": [
    {
     "data": {
      "image/png": "[encoded data removed]",
      "text/plain": [
       "<Figure size 800x500 with 1 Axes>"
      ]
     },
     "metadata": {},
     "output_type": "display_data"
    }
   ],
   "source": [
    "results = [109.79722192999998, 15.26603592399988, 71.20611253599964]\n",
    "\n",
    "fig, ax = plt.subplots(1, 1, figsize=(8, 5))\n",
    "ax.bar([\"Jax\", \"Jax JIT\", \"Torch\"], results, width=0.1)\n",
    "ax.set_ylabel(\"Seconds\")\n",
    "ax.set_title(\"Speed of Sine Gaussian in Jax and Torch\")\n",
    "plt.show()"
   ]
  }
 ],
 "metadata": {
  "kernelspec": {
   "display_name": "idk",
   "language": "python",
   "name": "python3"
  },
  "language_info": {
   "codemirror_mode": {
    "name": "ipython",
    "version": 3
   },
   "file_extension": ".py",
   "mimetype": "text/x-python",
   "name": "python",
   "nbconvert_exporter": "python",
   "pygments_lexer": "ipython3",
   "version": "3.12.3"
  }
 },
 "nbformat": 4,
 "nbformat_minor": 2
}
